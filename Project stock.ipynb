{
 "cells": [
  {
   "cell_type": "code",
   "execution_count": null,
   "id": "24b2049a-1fb5-4771-8f9c-e8f3c437c10d",
   "metadata": {},
   "outputs": [],
   "source": [
    "%pip install numpy yfinance pandas matplotlib"
   ]
  },
  {
   "cell_type": "code",
   "execution_count": null,
   "id": "7702a335-e23f-4ff6-931a-886761892ffc",
   "metadata": {},
   "outputs": [],
   "source": [
    "# IMPORT ALL THE LIBRARIES\n",
    "\n",
    "import numpy as np\n",
    "import pandas as pd\n",
    "import yfinance as yf\n",
    "import matplotlib.pyplot as plt"
   ]
  },
  {
   "cell_type": "code",
   "execution_count": null,
   "id": "e2d6a860",
   "metadata": {},
   "outputs": [],
   "source": [
    "stocks=('GOOG','MSFT','AMZN','AAPL','JPM')\n",
    "start_date='2015-01-01'\n",
    "end_date=\"2024-12-31\"\n",
    "\n",
    "stock_data=yf.download(stocks,start_date,end_date)\n",
    "stock_data\n",
    "stock_data.to.csv('stock_data.csv') # IF YOU WANT TO SAVE THE DATA IN CSV FORMAT ...OPTIONAL"
   ]
  },
  {
   "cell_type": "code",
   "execution_count": null,
   "id": "2c6b5df1",
   "metadata": {},
   "outputs": [],
   "source": [
    "stock_close=stock_data['Close']   # NEED ONLY CLOSING PRICE TO COMPARE AND CALCULATE RETURN\n",
    "stock_close"
   ]
  },
  {
   "cell_type": "code",
   "execution_count": null,
   "id": "bfa8c8d8",
   "metadata": {},
   "outputs": [],
   "source": [
    "(stock_close/stock_close.iloc[0]*100).plot(figsize=(15,6),title=\"STOCKS RETURNS \")\n",
    "plt.ylabel('Stock Price (USD)')\n",
    "plt.xlabel('Date')\n",
    "plt.show()\n",
    "plt.show   # DISPLAY A CHART TO SHOW THE RETURNS OVER THE YEARS"
   ]
  },
  {
   "cell_type": "code",
   "execution_count": null,
   "id": "8e7727a9",
   "metadata": {},
   "outputs": [],
   "source": [
    "avg_return=(stock_close/stock_close.shift(1))-1  # THIS WOULD HELP YOU TO GET DAILY RETURN OF THE STOCKS\n",
    "avg_return"
   ]
  },
  {
   "cell_type": "code",
   "execution_count": null,
   "id": "ac6a81a3",
   "metadata": {},
   "outputs": [],
   "source": [
    "annual_return=avg_return.mean()*250\n",
    "annual_return  #ANNUALIZED RETURN \n"
   ]
  },
  {
   "cell_type": "code",
   "execution_count": null,
   "id": "cd030103",
   "metadata": {},
   "outputs": [],
   "source": [
    "# STOCKS CONSIST IN THE PORTFOLIO ACCORDING TO THE WEIGHTAGE AND OVERALL RETURN\n",
    "weight=([0.30,0.20,0.20,0.10,0.20])\n",
    "np.dot(annual_return,weight)\n",
    "portfolio=(str(round(np.dot(annual_return,weight),5)*100)+\"%\")\n",
    "portfolio"
   ]
  },
  {
   "cell_type": "code",
   "execution_count": null,
   "id": "cc6162e4",
   "metadata": {},
   "outputs": [],
   "source": [
    "# CALCULATING RISK AND COVARIANCE INDIVIDUALLY\n",
    "\n",
    "std_return=avg_return.mean()*250**0.5   # STANDARD DEVIATION\n",
    "std_return\n",
    "cov_return=avg_return.cov()*250  #COVARIANCE\n",
    "cov_return\n",
    "cor_return=avg_return.corr()    #CORELATION\n",
    "cor_return"
   ]
  },
  {
   "cell_type": "code",
   "execution_count": null,
   "id": "6f2d62e8",
   "metadata": {},
   "outputs": [],
   "source": [
    "# PORTFOLIO VARIANCE AND RISK \n",
    "\n",
    "weight=np.array([0.30,0.20,0.20,0.10,0.20])\n",
    "portfolio_var=np.dot(weight.T,np.dot(avg_return.cov()*250,weight))\n",
    "portfolio_var\n",
    "\n",
    "portfolio_risk=np.dot(weight.T,np.dot(avg_return.cov()*250,weight))**0.5\n",
    "portfolio_risk"
   ]
  },
  {
   "cell_type": "code",
   "execution_count": null,
   "id": "47b6be07",
   "metadata": {},
   "outputs": [],
   "source": []
  },
  {
   "cell_type": "code",
   "execution_count": null,
   "id": "4c90c04d",
   "metadata": {},
   "outputs": [],
   "source": []
  },
  {
   "cell_type": "code",
   "execution_count": null,
   "id": "122daeff",
   "metadata": {},
   "outputs": [],
   "source": []
  },
  {
   "cell_type": "code",
   "execution_count": null,
   "id": "0a93af17",
   "metadata": {},
   "outputs": [],
   "source": []
  },
  {
   "cell_type": "code",
   "execution_count": null,
   "id": "ccc1d292",
   "metadata": {},
   "outputs": [],
   "source": []
  },
  {
   "cell_type": "code",
   "execution_count": null,
   "id": "9191ad91",
   "metadata": {},
   "outputs": [],
   "source": []
  },
  {
   "cell_type": "code",
   "execution_count": null,
   "id": "3badf71c",
   "metadata": {},
   "outputs": [],
   "source": []
  },
  {
   "cell_type": "code",
   "execution_count": null,
   "id": "d2203cac",
   "metadata": {},
   "outputs": [],
   "source": []
  },
  {
   "cell_type": "code",
   "execution_count": null,
   "id": "ce5275df",
   "metadata": {},
   "outputs": [],
   "source": []
  },
  {
   "cell_type": "code",
   "execution_count": null,
   "id": "edb0b2a4",
   "metadata": {},
   "outputs": [],
   "source": []
  },
  {
   "cell_type": "code",
   "execution_count": null,
   "metadata": {},
   "outputs": [],
   "source": []
  },
  {
   "cell_type": "code",
   "execution_count": null,
   "metadata": {},
   "outputs": [],
   "source": []
  },
  {
   "cell_type": "code",
   "execution_count": null,
   "id": "a7790636",
   "metadata": {},
   "outputs": [],
   "source": []
  }
 ],
 "metadata": {
  "kernelspec": {
   "display_name": "Python 3",
   "language": "python",
   "name": "python3"
  },
  "language_info": {
   "codemirror_mode": {
    "name": "ipython",
    "version": 3
   },
   "file_extension": ".py",
   "mimetype": "text/x-python",
   "name": "python",
   "nbconvert_exporter": "python",
   "pygments_lexer": "ipython3",
   "version": "3.13.1"
  }
 },
 "nbformat": 4,
 "nbformat_minor": 5
}
